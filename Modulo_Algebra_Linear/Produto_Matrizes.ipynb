{
 "cells": [
  {
   "cell_type": "markdown",
   "metadata": {},
   "source": [
    "# Produto de Matrizes"
   ]
  },
  {
   "cell_type": "markdown",
   "metadata": {},
   "source": [
    "<b>DEFINIÇÃO TEÓRICA"
   ]
  },
  {
   "cell_type": "markdown",
   "metadata": {},
   "source": [
    "Dadas as matrizes $ A $ de ordem 3 x 2  $ \\begin{pmatrix}\n",
    "a_{11} & a_{12}\\\\\n",
    "a_{21} & a_{22}\\\\\n",
    "a_{31} & a_{32}\n",
    "\\end{pmatrix} $ e $ B $ de ordem 2 x 3 $ \\begin{pmatrix}\n",
    "b_{11} & b_{12} & b_{13}\\\\\n",
    "b_{21} & b_{22} & b_{23}\n",
    "\\end{pmatrix} $, temos que o produto das matrizes é definido por:\n",
    "\n",
    "$$ AB = \\begin{pmatrix} a_{11}b_{11} + a_{12}b_{21} & a_{11}b_{12} + a_{12}b_{22} & a_{11}b_{13} + a_{12}b_{23}\\\\ a_{21}b_{11} + a_{22}b_{21} & a_{21}b_{12} + a_{22}b_{22} & a_{21}b_{13} + a_{22}b_{23}\\\\ a_{31}b_{11} + a_{32}b_{21} & a_{31}b_{12} + a_{32}b_{22} & a_{31}b_{13} + a_{32}b_{23}\\\\ \\end{pmatrix} $$\n",
    "\n",
    "Necessariamente o número de colunas da Matriz $ A $ deve ser igual ao número de linhas da Matriz $ B $. A Matriz $ AB $ é de ordem 3 x 3."
   ]
  },
  {
   "cell_type": "markdown",
   "metadata": {},
   "source": [
    "Referência Bibliográfica:\n",
    "- Livro: <i>Introduction to Linear Algebra - by: Gilbert Strang.</i> Disponível em: https://math.mit.edu/~gs/linearalgebra/.\n",
    "- Artigo: <i>Produto de matrizes - by: UFRGS.</i> Disponível em: https://www.ufrgs.br/reamat/AlgebraLinear/livro/s4-produto_de_matrizes.html."
   ]
  },
  {
   "cell_type": "markdown",
   "metadata": {},
   "source": [
    "<b>BIBLIOTECAS"
   ]
  },
  {
   "cell_type": "code",
   "execution_count": 56,
   "metadata": {},
   "outputs": [],
   "source": [
    "#Biblioteca para trabalhar com Álgebra Linear\n",
    "import numpy"
   ]
  },
  {
   "cell_type": "markdown",
   "metadata": {},
   "source": [
    "<b>FUNÇÃO PARA PRODUTO DE MATRIZES"
   ]
  },
  {
   "cell_type": "code",
   "execution_count": 57,
   "metadata": {},
   "outputs": [],
   "source": [
    "def f_produto_matrizes(matriz_1, matriz_2):\n",
    "    #Multiplicar matrizes\n",
    "    prod_matrizes = numpy.dot(matriz_1, matriz_2)\n",
    "    #Retornar resultado\n",
    "    return prod_matrizes"
   ]
  },
  {
   "cell_type": "markdown",
   "metadata": {},
   "source": [
    "<b>EXEMPLO"
   ]
  },
  {
   "cell_type": "markdown",
   "metadata": {},
   "source": [
    "Matriz $ A  =  \\begin{pmatrix} 1 & 0\\\\ 0 & 8 \\end{pmatrix} $ e Matriz $ B = \\begin{pmatrix} 1 & 0\\\\ -1/2 & 1 \\end{pmatrix} $"
   ]
  },
  {
   "cell_type": "code",
   "execution_count": 58,
   "metadata": {},
   "outputs": [
    {
     "name": "stdout",
     "output_type": "stream",
     "text": [
      "A =\n",
      "[[1 0]\n",
      " [0 8]]\n",
      "B =\n",
      "[[ 1.   0. ]\n",
      " [-0.5  1. ]]\n",
      "AB =\n",
      "[[ 1.  0.]\n",
      " [-4.  8.]]\n"
     ]
    }
   ],
   "source": [
    "A = numpy.array([[1,0],[0,8]])\n",
    "B = numpy.array([[1,0],[-0.5,1]])\n",
    "AB = f_produto_matrizes(A, B)\n",
    "print(f\"A =\\n{A}\")\n",
    "print(f\"B =\\n{B}\")\n",
    "print(f\"AB =\\n{AB}\")"
   ]
  }
 ],
 "metadata": {
  "kernelspec": {
   "display_name": "Python 3.10.6 64-bit (windows store)",
   "language": "python",
   "name": "python3"
  },
  "language_info": {
   "codemirror_mode": {
    "name": "ipython",
    "version": 3
   },
   "file_extension": ".py",
   "mimetype": "text/x-python",
   "name": "python",
   "nbconvert_exporter": "python",
   "pygments_lexer": "ipython3",
   "version": "3.10.6"
  },
  "orig_nbformat": 4,
  "vscode": {
   "interpreter": {
    "hash": "9709949afb88f8086ec4cc178421fd43ecab2e042094497bc53c1c2ebfc95944"
   }
  }
 },
 "nbformat": 4,
 "nbformat_minor": 2
}
