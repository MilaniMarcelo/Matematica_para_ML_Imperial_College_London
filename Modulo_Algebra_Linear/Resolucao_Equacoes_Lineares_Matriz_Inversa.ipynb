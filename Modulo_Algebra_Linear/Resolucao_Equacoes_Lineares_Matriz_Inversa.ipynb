{
 "cells": [
  {
   "cell_type": "markdown",
   "metadata": {},
   "source": [
    "# Resolução de Equações Lineares usando Matriz Inversa"
   ]
  },
  {
   "cell_type": "markdown",
   "metadata": {},
   "source": [
    "<b>BIBLIOTECAS"
   ]
  },
  {
   "cell_type": "code",
   "execution_count": 44,
   "metadata": {},
   "outputs": [],
   "source": [
    "#Biblioteca para operações envolvendo Algebra Linear\n",
    "import numpy"
   ]
  },
  {
   "cell_type": "markdown",
   "metadata": {},
   "source": [
    "<b>FUNÇÃO PARA RESOLVER SISTEMAS DE EQUAÇÕES LINEARES"
   ]
  },
  {
   "cell_type": "code",
   "execution_count": 45,
   "metadata": {},
   "outputs": [],
   "source": [
    "def f_sist_eq_lineares(matriz_coeficientes, matriz_resultados):\n",
    "    #Encontrar a Matriz Inversa de coeficientes\n",
    "    inversa_matriz_coeficientes = numpy.linalg.inv(matriz_coeficientes)\n",
    "    #Calcular o Produto Escalar das matrizes\n",
    "    valor_variaveis = numpy.dot(inversa_matriz_coeficientes, matriz_resultados)\n",
    "    #Retornar o resultado das variáveis\n",
    "    return valor_variaveis"
   ]
  },
  {
   "cell_type": "markdown",
   "metadata": {},
   "source": [
    "<b>EXERCÍCIO 1:"
   ]
  },
  {
   "cell_type": "markdown",
   "metadata": {},
   "source": [
    "$\\begin{bmatrix}4 & 6 & 2 \\\\ 3 & 4 & 1 \\\\ 2 & 8 \n",
    "& 13\\end{bmatrix} \\begin{bmatrix}a\\\\b\\\\c\\end{bmatrix} = \n",
    "\\begin{bmatrix}9\\\\7\\\\2\\end{bmatrix}$"
   ]
  },
  {
   "cell_type": "code",
   "execution_count": 46,
   "metadata": {},
   "outputs": [
    {
     "name": "stdout",
     "output_type": "stream",
     "text": [
      "A =\n",
      "[[ 4.  6.  2.]\n",
      " [ 3.  4.  1.]\n",
      " [ 2.  8. 13.]]\n",
      "R =\n",
      "[[9.]\n",
      " [7.]\n",
      " [2.]]\n",
      "Variaveis =\n",
      "[[ 3.00000000e+00]\n",
      " [-5.00000000e-01]\n",
      " [-1.05471187e-15]]\n"
     ]
    }
   ],
   "source": [
    "A = numpy.array([[4,6,2],[3,4,1],[2,8,13]], dtype=\"double\")\n",
    "R = numpy.array([[9],[7],[2]], dtype=\"double\")\n",
    "variaveis_a_b_c = f_sist_eq_lineares(A, R)\n",
    "print(f\"A =\\n{A}\")\n",
    "print(f\"R =\\n{R}\")\n",
    "print(f\"Variaveis =\\n{variaveis_a_b_c}\")"
   ]
  },
  {
   "cell_type": "markdown",
   "metadata": {},
   "source": [
    "<b>EXERCÍCIO 2:"
   ]
  },
  {
   "cell_type": "markdown",
   "metadata": {},
   "source": [
    "$\\begin{bmatrix}1 & 1 & 1 \\\\ 3 & 2 & 1 \\\\ 2 & 1 \n",
    "& 2\\end{bmatrix} \\begin{bmatrix}a\\\\b\\\\c\\end{bmatrix} = \n",
    "\\begin{bmatrix}15\\\\28\\\\23\\end{bmatrix}$"
   ]
  },
  {
   "cell_type": "code",
   "execution_count": 47,
   "metadata": {},
   "outputs": [
    {
     "name": "stdout",
     "output_type": "stream",
     "text": [
      "A =\n",
      "[[1. 1. 1.]\n",
      " [3. 2. 1.]\n",
      " [2. 1. 2.]]\n",
      "R =\n",
      "[[15.]\n",
      " [28.]\n",
      " [23.]]\n",
      "Variaveis =\n",
      "[[3.]\n",
      " [7.]\n",
      " [5.]]\n"
     ]
    }
   ],
   "source": [
    "A = numpy.array([[1,1,1],[3,2,1],[2,1,2]], dtype=\"double\")\n",
    "R = numpy.array([[15],[28],[23]], dtype=\"double\")\n",
    "variaveis_a_b_c = f_sist_eq_lineares(A, R)\n",
    "print(f\"A =\\n{A}\")\n",
    "print(f\"R =\\n{R}\")\n",
    "print(f\"Variaveis =\\n{variaveis_a_b_c}\")"
   ]
  },
  {
   "cell_type": "markdown",
   "metadata": {},
   "source": [
    "<b>EXERCÍCIO 3"
   ]
  },
  {
   "cell_type": "markdown",
   "metadata": {},
   "source": [
    "$\\begin{bmatrix}1 & 1 & 1 \\\\ 3 & 2 & 1 \\\\ 2 & 1 \n",
    "& 2\\end{bmatrix}$"
   ]
  },
  {
   "cell_type": "code",
   "execution_count": 48,
   "metadata": {},
   "outputs": [
    {
     "name": "stdout",
     "output_type": "stream",
     "text": [
      "A =\n",
      "[[1. 1. 1.]\n",
      " [3. 2. 1.]\n",
      " [2. 1. 2.]]\n",
      "Inversa A =\n",
      "[[-1.5  0.5  0.5]\n",
      " [ 2.   0.  -1. ]\n",
      " [ 0.5 -0.5  0.5]]\n"
     ]
    }
   ],
   "source": [
    "A = numpy.array([[1,1,1],[3,2,1],[2,1,2]], dtype=\"double\")\n",
    "A_inversa = numpy.linalg.inv(A)\n",
    "print(f\"A =\\n{A}\")\n",
    "print(f\"Inversa A =\\n{A_inversa}\")"
   ]
  }
 ],
 "metadata": {
  "kernelspec": {
   "display_name": "Python 3.10.6 64-bit (microsoft store)",
   "language": "python",
   "name": "python3"
  },
  "language_info": {
   "codemirror_mode": {
    "name": "ipython",
    "version": 3
   },
   "file_extension": ".py",
   "mimetype": "text/x-python",
   "name": "python",
   "nbconvert_exporter": "python",
   "pygments_lexer": "ipython3",
   "version": "3.10.6"
  },
  "orig_nbformat": 4,
  "vscode": {
   "interpreter": {
    "hash": "9709949afb88f8086ec4cc178421fd43ecab2e042094497bc53c1c2ebfc95944"
   }
  }
 },
 "nbformat": 4,
 "nbformat_minor": 2
}
