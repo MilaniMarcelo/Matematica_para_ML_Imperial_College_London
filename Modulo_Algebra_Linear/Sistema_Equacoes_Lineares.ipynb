{
 "cells": [
  {
   "cell_type": "markdown",
   "id": "0bd6fdca",
   "metadata": {},
   "source": [
    "# Sistema de Equações Lineares"
   ]
  },
  {
   "cell_type": "markdown",
   "id": "1fc43af6",
   "metadata": {},
   "source": [
    "<b>DEFINIÇÃO TEÓRICA"
   ]
  },
  {
   "cell_type": "markdown",
   "id": "ac1b6c80",
   "metadata": {},
   "source": [
    "Um sistema de equações lineares pode ser representado matematicamente da seguinte forma:\n",
    "\n",
    "$$ AX = B $$\n",
    "\n",
    "Isolando a variável \"X\":\n",
    "\n",
    "$$ X = A^{-1}B $$\n",
    "\n",
    "Em que:\n",
    "- $ X $: Matriz de Variáveis.\n",
    "- $ A $: Matriz de Coeficientes.\n",
    "- $ A^{-1} $: Matriz Inversa de Coeficientes.\n",
    "- $ B $: Matriz de Resultados."
   ]
  },
  {
   "cell_type": "markdown",
   "id": "82099689",
   "metadata": {},
   "source": [
    "Referência Bibliográfica:\n",
    "- Livro: <i>Introduction to Linear Algebra - by: Gilbert Strang.</i> Disponível em: https://math.mit.edu/~gs/linearalgebra/."
   ]
  },
  {
   "cell_type": "markdown",
   "id": "af56ec6f",
   "metadata": {},
   "source": [
    "<b>BIBLIOTECAS"
   ]
  },
  {
   "cell_type": "code",
   "execution_count": 1,
   "id": "4268c407",
   "metadata": {},
   "outputs": [],
   "source": [
    "#Biblioteca para operações envolvendo Algebra Linear\n",
    "import numpy"
   ]
  },
  {
   "cell_type": "markdown",
   "id": "9a31d2b7",
   "metadata": {},
   "source": [
    "<b>FUNÇÃO PARA RESOLVER SISTEMAS DE EQUAÇÕES LINEARES"
   ]
  },
  {
   "cell_type": "code",
   "execution_count": 2,
   "id": "8422eabb",
   "metadata": {},
   "outputs": [],
   "source": [
    "def f_sist_eq_lineares(matriz_coeficientes, matriz_resultados):\n",
    "    #Encontrar a Matriz Inversa de coeficientes\n",
    "    inversa_matriz_coeficientes = numpy.linalg.inv(matriz_coeficientes)\n",
    "    #Calcular o Produto Escalar das matrizes\n",
    "    valor_variaveis = numpy.dot(inversa_matriz_coeficientes, matriz_resultados)\n",
    "    #Retornar o resultado das variáveis\n",
    "    return valor_variaveis"
   ]
  },
  {
   "cell_type": "markdown",
   "id": "1742789e",
   "metadata": {},
   "source": [
    "<b>EXEMPLO"
   ]
  },
  {
   "cell_type": "markdown",
   "id": "25a89a2f",
   "metadata": {},
   "source": [
    "$ 3x - 2y + z = 7 $\n",
    "\n",
    "$ x + y + z = 2 $\n",
    "\n",
    "$ 3x - 2y - z = 3 $"
   ]
  },
  {
   "cell_type": "code",
   "execution_count": 3,
   "id": "028baa9c",
   "metadata": {},
   "outputs": [
    {
     "data": {
      "text/plain": [
       "array([[ 3, -2,  1],\n",
       "       [ 1,  1,  1],\n",
       "       [ 3, -2, -1]])"
      ]
     },
     "execution_count": 3,
     "metadata": {},
     "output_type": "execute_result"
    }
   ],
   "source": [
    "#Matriz de coeficientes\n",
    "coeficientes = numpy.array([[3,-2,1],[1,1,1],[3,-2,-1]])\n",
    "coeficientes"
   ]
  },
  {
   "cell_type": "code",
   "execution_count": 4,
   "id": "d56e9175",
   "metadata": {},
   "outputs": [
    {
     "data": {
      "text/plain": [
       "array([[7],\n",
       "       [2],\n",
       "       [3]])"
      ]
     },
     "execution_count": 4,
     "metadata": {},
     "output_type": "execute_result"
    }
   ],
   "source": [
    "#Matriz de resultados\n",
    "resultados = numpy.array([[7],[2],[3]])\n",
    "resultados"
   ]
  },
  {
   "cell_type": "code",
   "execution_count": 5,
   "id": "9deb3d0a",
   "metadata": {},
   "outputs": [
    {
     "name": "stdout",
     "output_type": "stream",
     "text": [
      "x = [1.]\n",
      "y = [-1.]\n",
      "z = [2.]\n"
     ]
    },
    {
     "data": {
      "text/plain": [
       "array([[ 1.],\n",
       "       [-1.],\n",
       "       [ 2.]])"
      ]
     },
     "execution_count": 5,
     "metadata": {},
     "output_type": "execute_result"
    }
   ],
   "source": [
    "#Valor das variáveis\n",
    "variaveis = f_sist_eq_lineares(coeficientes, resultados)\n",
    "print(f\"x = {variaveis[0]}\\ny = {variaveis[1]}\\nz = {variaveis[2]}\")\n",
    "variaveis"
   ]
  }
 ],
 "metadata": {
  "kernelspec": {
   "display_name": "py10",
   "language": "python",
   "name": "py10"
  },
  "language_info": {
   "codemirror_mode": {
    "name": "ipython",
    "version": 3
   },
   "file_extension": ".py",
   "mimetype": "text/x-python",
   "name": "python",
   "nbconvert_exporter": "python",
   "pygments_lexer": "ipython3",
   "version": "3.10.0"
  }
 },
 "nbformat": 4,
 "nbformat_minor": 5
}
